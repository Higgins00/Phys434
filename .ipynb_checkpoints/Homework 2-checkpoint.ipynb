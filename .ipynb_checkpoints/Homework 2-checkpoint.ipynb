{
 "cells": [
  {
   "cell_type": "markdown",
   "metadata": {},
   "source": [
    "#### $\\text{Michael Higgins}$"
   ]
  },
  {
   "cell_type": "markdown",
   "metadata": {},
   "source": [
    "# $$ \\text{Homework}\\ 2: $$"
   ]
  },
  {
   "cell_type": "markdown",
   "metadata": {},
   "source": [
    "### Problem 1:"
   ]
  },
  {
   "cell_type": "markdown",
   "metadata": {},
   "source": [
    "It is more probable to roll sevens than it is to roll snake eyes when rolling two 6-sided dice."
   ]
  },
  {
   "cell_type": "markdown",
   "metadata": {},
   "source": [
    "$\\normalsize{P}_{dice}(1)$ and $\\normalsize{P}_{dice}(1) = \\normalsize{P}_{dice}(1) \\cdot \\normalsize{P}_{dice}(1)$"
   ]
  },
  {
   "cell_type": "markdown",
   "metadata": {},
   "source": [
    "$$\\normalsize{P}_{snake-eyes} = \\frac{1}{6} \\cdot \\frac{1}{6} = \\frac{1}{36}$$"
   ]
  },
  {
   "cell_type": "markdown",
   "metadata": {},
   "source": [
    "$\\normalsize P_{sum}(7) = \\sum^{7}_{n=0} P_{dice}(n) \\cdot P_{dice}(7-n) $"
   ]
  },
  {
   "cell_type": "markdown",
   "metadata": {},
   "source": [
    "$$\\normalsize P_{sum}(7) = \\frac{6}{36}$$"
   ]
  },
  {
   "cell_type": "markdown",
   "metadata": {},
   "source": [
    "$$ \\boxed{\\normalsize \\frac{P_{snake-eyes}}{P_{sum}} = \\frac{1}{6}} $$"
   ]
  },
  {
   "cell_type": "markdown",
   "metadata": {},
   "source": [
    "### Problem 2:"
   ]
  },
  {
   "cell_type": "markdown",
   "metadata": {},
   "source": [
    "Convolution operator *"
   ]
  },
  {
   "cell_type": "markdown",
   "metadata": {},
   "source": [
    "$$\\normalsize P_{sum}(Sum=z) = \\sum^{7}_{i=0}P_{dice}(n)P_{dice}(z-n)$$"
   ]
  },
  {
   "cell_type": "markdown",
   "metadata": {},
   "source": [
    "$ P_{sum}(1) = 0 $"
   ]
  },
  {
   "cell_type": "markdown",
   "metadata": {},
   "source": [
    "$ P_{sum}(2) =\\left( \\frac{1}{6} \\right)^2 = \\frac{1}{36}$"
   ]
  },
  {
   "cell_type": "markdown",
   "metadata": {},
   "source": [
    "$ P_{sum}(3) =\\left( \\frac{1}{6} \\right)^2 + \\left( \\frac{1}{6} \\right)^2 = \\frac{2}{36}$"
   ]
  },
  {
   "cell_type": "markdown",
   "metadata": {},
   "source": [
    "$ P_{sum}(4) =\\left( \\frac{1}{6} \\right)^2 + \\left( \\frac{1}{6} \\right)^2 + \\left( \\frac{1}{6} \\right)^2 = \\frac{3}{36}$"
   ]
  },
  {
   "cell_type": "markdown",
   "metadata": {},
   "source": [
    "$ P_{sum}(5) =\\left( \\frac{1}{6} \\right)^2 + \\left( \\frac{1}{6} \\right)^2 + \\left( \\frac{1}{6} \\right)^2 + \\left( \\frac{1}{6} \\right)^2 = \\frac{4}{36}$"
   ]
  },
  {
   "cell_type": "markdown",
   "metadata": {},
   "source": [
    "$ P_{sum}(6) =\\left( \\frac{1}{6} \\right)^2 + \\left( \\frac{1}{6} \\right)^2 + \\left( \\frac{1}{6} \\right)^2 + \\left( \\frac{1}{6} \\right)^2 + \\left( \\frac{1}{6} \\right)^2= \\frac{5}{36}$"
   ]
  },
  {
   "cell_type": "markdown",
   "metadata": {},
   "source": [
    "$ P_{sum}(7) =\\left( \\frac{1}{6} \\right)^2 + \\left( \\frac{1}{6} \\right)^2 + \\left( \\frac{1}{6} \\right)^2 + \\left( \\frac{1}{6} \\right)^2 + \\left( \\frac{1}{6} \\right)^2 + \\left( \\frac{1}{6} \\right)^2= \\frac{6}{36}$"
   ]
  },
  {
   "cell_type": "markdown",
   "metadata": {},
   "source": [
    "$ P_{sum}(8) =\\left( \\frac{1}{6} \\right)^2 + \\left( \\frac{1}{6} \\right)^2 + \\left( \\frac{1}{6} \\right)^2 + \\left( \\frac{1}{6} \\right)^2 + \\left( \\frac{1}{6} \\right)^2= \\frac{5}{36}$"
   ]
  },
  {
   "cell_type": "markdown",
   "metadata": {},
   "source": [
    "$ P_{sum}(9) =\\left( \\frac{1}{6} \\right)^2 + \\left( \\frac{1}{6} \\right)^2 + \\left( \\frac{1}{6} \\right)^2 + \\left( \\frac{1}{6} \\right)^2 = \\frac{4}{36}$"
   ]
  },
  {
   "cell_type": "markdown",
   "metadata": {},
   "source": [
    "$ P_{sum}(10) =\\left( \\frac{1}{6} \\right)^2 + \\left( \\frac{1}{6} \\right)^2 + \\left( \\frac{1}{6} \\right)^2 = \\frac{3}{36}$"
   ]
  },
  {
   "cell_type": "markdown",
   "metadata": {},
   "source": [
    "$ P_{sum}(11) =\\left( \\frac{1}{6} \\right)^2 + \\left( \\frac{1}{6} \\right)^2 = \\frac{2}{36}$"
   ]
  },
  {
   "cell_type": "markdown",
   "metadata": {},
   "source": [
    "$ P_{sum}(12) =\\left( \\frac{1}{6} \\right)^2 = \\frac{1}{36}$"
   ]
  },
  {
   "cell_type": "code",
   "execution_count": 1,
   "metadata": {},
   "outputs": [],
   "source": [
    "import numpy as np\n",
    "import pandas as pd\n",
    "import scipy as sp\n",
    "import matplotlib.pyplot as plt"
   ]
  },
  {
   "cell_type": "code",
   "execution_count": 86,
   "metadata": {},
   "outputs": [],
   "source": [
    "#Simulated data\n",
    "n=1000000\n",
    "d1 = np.random.randint(1,7,n)\n",
    "d2 = np.random.randint(1,7,n)\n",
    "y = (d1+d2)\n",
    "bins = np.arange(0,y.max() +1.5) - .5\n",
    "\n",
    "#Perfect data\n",
    "yperf = np.asarray([2,3,3,4,4,4,5,5,5,5,6,6,6,6,6,7,7,7,7,7,7,8,8,8,8,8,9,9,9,9,10,10,10,11,11,12])"
   ]
  },
  {
   "cell_type": "code",
   "execution_count": 87,
   "metadata": {},
   "outputs": [
    {
     "data": {
      "image/png": "[encoded data removed]",
      "text/plain": [
       "<Figure size 720x360 with 2 Axes>"
      ]
     },
     "metadata": {
      "needs_background": "light"
     },
     "output_type": "display_data"
    }
   ],
   "source": [
    "fig, ax = plt.subplots(1,2,figsize=(10,5))\n",
    "\n",
    "ax[0].set_title('Simulated Data')\n",
    "ax[0].set_ylabel('Counts')\n",
    "ax[0].set_xlabel('Sum Of The Rolls')\n",
    "ax[0].hist(y,bins)\n",
    "ax[0].set_xticks(bins +.5);\n",
    "ax[0].set_xlim(1,13);\n",
    "\n",
    "ax[1].set_title('Perfect Data')\n",
    "ax[1].set_ylabel('Counts')\n",
    "ax[1].set_xlabel('Sum Of The Rolls')\n",
    "ax[1].hist(yperf,bins)\n",
    "ax[1].set_xticks(bins +.5);\n",
    "ax[1].set_xlim(1,13);"
   ]
  },
  {
   "cell_type": "code",
   "execution_count": 89,
   "metadata": {},
   "outputs": [
    {
     "data": {
      "text/plain": [
       "(7.0, 5.833333333333333)"
      ]
     },
     "execution_count": 89,
     "metadata": {},
     "output_type": "execute_result"
    }
   ],
   "source": [
    "yperf.mean(),np.var(yperf)"
   ]
  },
  {
   "cell_type": "code",
   "execution_count": 90,
   "metadata": {},
   "outputs": [
    {
     "data": {
      "text/plain": [
       "(7.001674, 5.823853197724)"
      ]
     },
     "execution_count": 90,
     "metadata": {},
     "output_type": "execute_result"
    }
   ],
   "source": [
    "y.mean(),np.var(y)"
   ]
  },
  {
   "cell_type": "code",
   "execution_count": null,
   "metadata": {},
   "outputs": [],
   "source": []
  }
 ],
 "metadata": {
  "kernelspec": {
   "display_name": "Python 3",
   "language": "python",
   "name": "python3"
  },
  "language_info": {
   "codemirror_mode": {
    "name": "ipython",
    "version": 3
   },
   "file_extension": ".py",
   "mimetype": "text/x-python",
   "name": "python",
   "nbconvert_exporter": "python",
   "pygments_lexer": "ipython3",
   "version": "3.6.8"
  }
 },
 "nbformat": 4,
 "nbformat_minor": 2
}
