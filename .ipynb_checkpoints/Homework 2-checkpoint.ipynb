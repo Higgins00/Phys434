{
 "cells": [
  {
   "cell_type": "markdown",
   "metadata": {},
   "source": [
    "#### $\\text{Michael Higgins}$"
   ]
  },
  {
   "cell_type": "markdown",
   "metadata": {},
   "source": [
    "# $$ \\text{Homework}\\ 2: $$"
   ]
  },
  {
   "cell_type": "markdown",
   "metadata": {},
   "source": [
    "### Problem 1:"
   ]
  },
  {
   "cell_type": "markdown",
   "metadata": {},
   "source": [
    "It is more probable to roll sevens than it is to roll snake eyes when rolling two 6-sided dice."
   ]
  },
  {
   "cell_type": "markdown",
   "metadata": {},
   "source": [
    "$\\normalsize{P}_{dice}(1)$ and $\\normalsize{P}_{dice}(1) = \\normalsize{P}_{dice}(1) \\cdot \\normalsize{P}_{dice}(1)$"
   ]
  },
  {
   "cell_type": "markdown",
   "metadata": {},
   "source": [
    "$$\\normalsize{P}_{snake-eyes} = \\frac{1}{6} \\cdot \\frac{1}{6} = \\frac{1}{36}$$"
   ]
  },
  {
   "cell_type": "markdown",
   "metadata": {},
   "source": [
    "$\\normalsize P_{sum}(7) = \\sum^{7}_{n=0} P_{dice}(n) \\cdot P_{dice}(7-n) $"
   ]
  },
  {
   "cell_type": "markdown",
   "metadata": {},
   "source": [
    "$$\\normalsize P_{sum}(7) = \\frac{6}{36}$$"
   ]
  },
  {
   "cell_type": "markdown",
   "metadata": {},
   "source": [
    "$$ \\boxed{\\normalsize \\frac{P_{snake-eyes}}{P_{sum}} = \\frac{1}{6}} $$"
   ]
  },
  {
   "cell_type": "markdown",
   "metadata": {},
   "source": [
    "### Problem 2:"
   ]
  },
  {
   "cell_type": "markdown",
   "metadata": {},
   "source": [
    "Convolution operator *"
   ]
  },
  {
   "cell_type": "markdown",
   "metadata": {},
   "source": [
    "$$\\normalsize P_{sum}(Sum=z) = \\sum^{7}_{i=0}P_{dice}(n)P_{dice}(z-n)$$"
   ]
  },
  {
   "cell_type": "markdown",
   "metadata": {},
   "source": [
    "$ P_{sum}(1) = 0 $"
   ]
  },
  {
   "cell_type": "markdown",
   "metadata": {},
   "source": [
    "$ P_{sum}(2) =\\left( \\frac{1}{6} \\right)^2 = \\frac{1}{36}$"
   ]
  },
  {
   "cell_type": "markdown",
   "metadata": {},
   "source": [
    "$ P_{sum}(3) =\\left( \\frac{1}{6} \\right)^2 + \\left( \\frac{1}{6} \\right)^2 = \\frac{2}{36}$"
   ]
  },
  {
   "cell_type": "markdown",
   "metadata": {},
   "source": [
    "$ P_{sum}(4) =\\left( \\frac{1}{6} \\right)^2 + \\left( \\frac{1}{6} \\right)^2 + \\left( \\frac{1}{6} \\right)^2 = \\frac{3}{36}$"
   ]
  },
  {
   "cell_type": "markdown",
   "metadata": {},
   "source": [
    "$ P_{sum}(5) =\\left( \\frac{1}{6} \\right)^2 + \\left( \\frac{1}{6} \\right)^2 + \\left( \\frac{1}{6} \\right)^2 + \\left( \\frac{1}{6} \\right)^2 = \\frac{4}{36}$"
   ]
  },
  {
   "cell_type": "markdown",
   "metadata": {},
   "source": [
    "$ P_{sum}(6) =\\left( \\frac{1}{6} \\right)^2 + \\left( \\frac{1}{6} \\right)^2 + \\left( \\frac{1}{6} \\right)^2 + \\left( \\frac{1}{6} \\right)^2 + \\left( \\frac{1}{6} \\right)^2= \\frac{5}{36}$"
   ]
  },
  {
   "cell_type": "markdown",
   "metadata": {},
   "source": [
    "$ P_{sum}(7) =\\left( \\frac{1}{6} \\right)^2 + \\left( \\frac{1}{6} \\right)^2 + \\left( \\frac{1}{6} \\right)^2 + \\left( \\frac{1}{6} \\right)^2 + \\left( \\frac{1}{6} \\right)^2 + \\left( \\frac{1}{6} \\right)^2= \\frac{6}{36}$"
   ]
  },
  {
   "cell_type": "markdown",
   "metadata": {},
   "source": [
    "$ P_{sum}(8) =\\left( \\frac{1}{6} \\right)^2 + \\left( \\frac{1}{6} \\right)^2 + \\left( \\frac{1}{6} \\right)^2 + \\left( \\frac{1}{6} \\right)^2 + \\left( \\frac{1}{6} \\right)^2= \\frac{5}{36}$"
   ]
  },
  {
   "cell_type": "markdown",
   "metadata": {},
   "source": [
    "$ P_{sum}(9) =\\left( \\frac{1}{6} \\right)^2 + \\left( \\frac{1}{6} \\right)^2 + \\left( \\frac{1}{6} \\right)^2 + \\left( \\frac{1}{6} \\right)^2 = \\frac{4}{36}$"
   ]
  },
  {
   "cell_type": "markdown",
   "metadata": {},
   "source": [
    "$ P_{sum}(10) =\\left( \\frac{1}{6} \\right)^2 + \\left( \\frac{1}{6} \\right)^2 + \\left( \\frac{1}{6} \\right)^2 = \\frac{3}{36}$"
   ]
  },
  {
   "cell_type": "markdown",
   "metadata": {},
   "source": [
    "$ P_{sum}(11) =\\left( \\frac{1}{6} \\right)^2 + \\left( \\frac{1}{6} \\right)^2 = \\frac{2}{36}$"
   ]
  },
  {
   "cell_type": "markdown",
   "metadata": {},
   "source": [
    "$ P_{sum}(12) =\\left( \\frac{1}{6} \\right)^2 = \\frac{1}{36}$"
   ]
  },
  {
   "cell_type": "code",
   "execution_count": 3,
   "metadata": {},
   "outputs": [],
   "source": [
    "import numpy as np\n",
    "import pandas as pd\n",
    "import scipy as sp\n",
    "import matplotlib.pyplot as plt"
   ]
  },
  {
   "cell_type": "code",
   "execution_count": 12,
   "metadata": {},
   "outputs": [
    {
     "data": {
      "text/plain": [
       "array([0.00462963, 0.01388889, 0.02777778, 0.0462963 , 0.06944444,\n",
       "       0.09722222, 0.11574074, 0.125     , 0.125     , 0.11574074,\n",
       "       0.09722222, 0.06944444, 0.0462963 , 0.02777778, 0.01388889,\n",
       "       0.00462963])"
      ]
     },
     "execution_count": 12,
     "metadata": {},
     "output_type": "execute_result"
    }
   ],
   "source": [
    "#Simulated data\n",
    "n=1000000\n",
    "d1 = np.random.randint(1,7,n)\n",
    "d2 = np.random.randint(1,7,n)\n",
    "y = (d1+d2)\n",
    "bins = np.arange(0,y.max() +1.5) - .5\n",
    "\n",
    "#Perfect data\n",
    "yperf = np.asarray([2,3,3,4,4,4,5,5,5,5,6,6,6,6,6,7,7,7,7,7,7,8,8,8,8,8,9,9,9,9,10,10,10,11,11,12])\n",
    "\n",
    "#Convolution Calculation\n",
    "diceprob = 1/6 \n",
    "def dicelist(diceprob, numberofsides):\n",
    "    array = np.asarray([])\n",
    "    for x in range(0,numberofsides):\n",
    "        array = np.insert(array,x,diceprob)\n",
    "    return array\n",
    "\n",
    "pdf2=np.convolve(dicelist(1/6,6),dicelist(1/6,6),mode ='full')\n",
    "np.convolve(dicelist(1/6,6),pdf1,mode='full')"
   ]
  },
  {
   "cell_type": "code",
   "execution_count": 31,
   "metadata": {
    "scrolled": true
   },
   "outputs": [
    {
     "data": {
      "image/png": "[encoded data removed]",
      "text/plain": [
       "<Figure size 1152x288 with 3 Axes>"
      ]
     },
     "metadata": {
      "needs_background": "light"
     },
     "output_type": "display_data"
    }
   ],
   "source": [
    "fig, ax = plt.subplots(1,3,figsize=(16,4))\n",
    "\n",
    "ax[0].set_title('Simulated Data')\n",
    "ax[0].set_ylabel('Counts')\n",
    "ax[0].set_xlabel('Sum Of The Rolls')\n",
    "ax[0].hist(y,bins)\n",
    "ax[0].set_xticks(bins +.5);\n",
    "ax[0].set_xlim(1,13);\n",
    "\n",
    "ax[1].set_title('Perfect Data')\n",
    "ax[1].set_ylabel('Counts')\n",
    "ax[1].set_xlabel('Sum Of The Rolls')\n",
    "ax[1].hist(yperf,bins)\n",
    "ax[1].set_xticks(bins +.5);\n",
    "ax[1].set_xlim(1,13);\n",
    "\n",
    "ax[2].set_title('Percentages from Convolution')\n",
    "ax[2].set_ylabel('Probability')\n",
    "ax[2].set_xlabel('Sum Of The Rolls')\n",
    "ax[2].bar(np.arange(2,len(pdf2)+2),pdf2,align='center',width=1)\n",
    "ax[2].set_xticks(bins +.5);\n",
    "ax[2].set_xlim(1,13);\n"
   ]
  },
  {
   "cell_type": "markdown",
   "metadata": {},
   "source": [
    "List of the probablilties of sums from np.convolutions"
   ]
  },
  {
   "cell_type": "code",
   "execution_count": 14,
   "metadata": {},
   "outputs": [
    {
     "name": "stdout",
     "output_type": "stream",
     "text": [
      "For the sum of the dice to equal 2 we get a probability of 0.027778\n",
      "For the sum of the dice to equal 3 we get a probability of 0.055556\n",
      "For the sum of the dice to equal 4 we get a probability of 0.083333\n",
      "For the sum of the dice to equal 5 we get a probability of 0.111111\n",
      "For the sum of the dice to equal 6 we get a probability of 0.138889\n",
      "For the sum of the dice to equal 7 we get a probability of 0.166667\n",
      "For the sum of the dice to equal 8 we get a probability of 0.138889\n",
      "For the sum of the dice to equal 9 we get a probability of 0.111111\n",
      "For the sum of the dice to equal 10 we get a probability of 0.083333\n",
      "For the sum of the dice to equal 11 we get a probability of 0.055556\n",
      "For the sum of the dice to equal 12 we get a probability of 0.027778\n"
     ]
    }
   ],
   "source": [
    "for c, value in enumerate(pdf2):\n",
    "    print('For the sum of the dice to equal {0:d} we get a probability of {1:f}'.format(c+2,value))"
   ]
  },
  {
   "cell_type": "markdown",
   "metadata": {},
   "source": [
    "### Problem 3:"
   ]
  },
  {
   "cell_type": "markdown",
   "metadata": {},
   "source": [
    "Mean and variation of the perfect data"
   ]
  },
  {
   "cell_type": "code",
   "execution_count": 15,
   "metadata": {},
   "outputs": [
    {
     "data": {
      "text/plain": [
       "(7.0, 5.833333333333333)"
      ]
     },
     "execution_count": 15,
     "metadata": {},
     "output_type": "execute_result"
    }
   ],
   "source": [
    "yperf.mean(),np.var(yperf)"
   ]
  },
  {
   "cell_type": "markdown",
   "metadata": {},
   "source": [
    "Writing out how to calculate the mean and variance of the sum with the pdf from the convolution function\n",
    "\n",
    "$$\\bar{x} = \\sum x  P_{sum}(x)$$\n",
    "\n",
    "$$var \\equiv \\sigma^2 = \\sum (x-\\bar{x})^2 P_{sum}(x)$$"
   ]
  },
  {
   "cell_type": "code",
   "execution_count": 73,
   "metadata": {},
   "outputs": [
    {
     "data": {
      "text/plain": [
       "(7.0, 5.833333333333334)"
      ]
     },
     "execution_count": 73,
     "metadata": {},
     "output_type": "execute_result"
    }
   ],
   "source": [
    "mean1 = sum(np.arange(2,13) * (pdf2))\n",
    "var1 = sum(((np.arange(2,13)-mean1)**2)*pdf2)\n",
    "mean1,var1"
   ]
  },
  {
   "cell_type": "markdown",
   "metadata": {},
   "source": [
    "Mean and variation of the Simulated data"
   ]
  },
  {
   "cell_type": "code",
   "execution_count": 17,
   "metadata": {},
   "outputs": [
    {
     "data": {
      "text/plain": [
       "(7.001817, 5.845623698511)"
      ]
     },
     "execution_count": 17,
     "metadata": {},
     "output_type": "execute_result"
    }
   ],
   "source": [
    "y.mean(),np.var(y)"
   ]
  },
  {
   "cell_type": "markdown",
   "metadata": {},
   "source": [
    "### Problem 4:"
   ]
  },
  {
   "cell_type": "code",
   "execution_count": 38,
   "metadata": {},
   "outputs": [],
   "source": [
    "#4 dice\n",
    "pdf4 = np.convolve(pdf1,pdf1, mode = \"full\")\n",
    "\n",
    "#8 dice\n",
    "pdf8 = np.convolve(pdf4,pdf4, mode = \"full\")\n",
    "\n",
    "#10 dice\n",
    "pdf10 = np.convolve(pdf8,pdf2, mode = \"full\")\n",
    "len(pdf10)\n",
    "\n",
    "#binning\n",
    "bins2 = np.arange(0,60 +.1) - .1\n"
   ]
  },
  {
   "cell_type": "code",
   "execution_count": 70,
   "metadata": {},
   "outputs": [
    {
     "data": {
      "image/png": "[encoded data removed]",
      "text/plain": [
       "<Figure size 864x432 with 2 Axes>"
      ]
     },
     "metadata": {
      "needs_background": "light"
     },
     "output_type": "display_data"
    }
   ],
   "source": [
    "fig,ax = plt.subplots(1,2,figsize=(12,6))\n",
    "\n",
    "ax[0].set_title('Probability For The Average of Rolling 10 Dice')\n",
    "ax[0].set_ylabel('Probability')\n",
    "ax[0].set_xlabel('Average of Rolls')\n",
    "ax[0].bar(np.linspace(1,(len(pdf10)+9)/10,51),pdf10,align='center',width=.1)\n",
    "ax[0].set_xlim(0,7);\n",
    "\n",
    "ax[1].set_title('Probability For The Average of Rolling 10 Dice Log Plot')\n",
    "ax[1].set_ylabel('Probability')\n",
    "ax[1].set_xlabel('Average of Rolls')\n",
    "ax[1].bar(np.linspace(1,(len(pdf10)+9)/10,51),pdf10,align='center',width=.1)\n",
    "ax[1].set_xlim(0,7);\n",
    "ax[1].set_yscale('log')"
   ]
  },
  {
   "cell_type": "markdown",
   "metadata": {},
   "source": [
    "This has aproached a Guassian distribution. Through inspection of the log plot of the probabilities the unique inverted parabola feature is very apparent. This arises from the Guassian distribution $\t{\\displaystyle {\\frac {1}{\\sqrt {2\\pi \\sigma ^{2}}}}e^{-{\\frac {(x-\\mu )^{2}}{2\\sigma ^{2}}}}}$ so when you take the log of the pdf you get a function that is proportional to $-(x-\\mu)^2$ which is a inverted parabola with a center at the mean of the distribution.\n",
    "\n",
    "A more mathematically rigorous explaination is that the sum of the dice rolls is a binomial distribution with a probability of success equal to 1/6 for each side of the die, but as the number of dice being rolled increases the binomial distrubition begins to approximate the normal distribution as n gets large. "
   ]
  },
  {
   "cell_type": "markdown",
   "metadata": {},
   "source": [
    "### Problem 5:"
   ]
  },
  {
   "cell_type": "markdown",
   "metadata": {},
   "source": [
    "The convolution of two Gaussian distributions is a tedious thing to write out. A trick to making it quicker is to use the fact that $\\mathcal{F}(f(x) ^* g(x)) = \\mathcal{F}(f(x)) \\cdot \\mathcal{F}(g(x)) $. We know that the Fourier transform of a gaussian is just another gaussian. This means that... $$ \\mathcal {F}^{-1}{\\big \\{}{\\mathcal {F}}\\{f_{X}\\}\\cdot {\\mathcal {F}}\\{f_{Y}\\}{\\big \\}} ={\\frac {1}{{\\sqrt {2\\pi }}\\sigma _{Z}}}\\exp \\left[-{(z-(\\mu _{X}+\\mu _{Y}))^{2} \\over 2\\sigma _{Z}^{2}}\\right]$$"
   ]
  },
  {
   "cell_type": "markdown",
   "metadata": {},
   "source": [
    "Where $\\sigma_Z = \\sqrt{\\sigma_X^2 + \\sigma_Y^2}$"
   ]
  },
  {
   "cell_type": "markdown",
   "metadata": {},
   "source": [
    "This means that by integrating a signal over time if our signal-free background is Guassian then our std. deviation of the background decreases. This means that integrating a signal over time will the allow us to narrow the effect of our background and more precisely determine whether and event was a statistically significant signal caused by something other than the background."
   ]
  },
  {
   "cell_type": "code",
   "execution_count": null,
   "metadata": {},
   "outputs": [],
   "source": []
  }
 ],
 "metadata": {
  "kernelspec": {
   "display_name": "Python 3",
   "language": "python",
   "name": "python3"
  },
  "language_info": {
   "codemirror_mode": {
    "name": "ipython",
    "version": 3
   },
   "file_extension": ".py",
   "mimetype": "text/x-python",
   "name": "python",
   "nbconvert_exporter": "python",
   "pygments_lexer": "ipython3",
   "version": "3.6.8"
  }
 },
 "nbformat": 4,
 "nbformat_minor": 2
}
