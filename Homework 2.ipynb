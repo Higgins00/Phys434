{
 "cells": [
  {
   "cell_type": "markdown",
   "metadata": {},
   "source": [
    "#### $\\text{Michael Higgins}$"
   ]
  },
  {
   "cell_type": "markdown",
   "metadata": {},
   "source": [
    "# $$ \\text{Homework}\\ 2: $$"
   ]
  },
  {
   "cell_type": "markdown",
   "metadata": {},
   "source": [
    "### Problem 1:"
   ]
  },
  {
   "cell_type": "markdown",
   "metadata": {},
   "source": [
    "It is more probable to roll sevens than it is to roll snake eyes when rolling two 6-sided dice."
   ]
  },
  {
   "cell_type": "markdown",
   "metadata": {},
   "source": [
    "$\\normalsize{P}_{dice}(1)$ and $\\normalsize{P}_{dice}(1) = \\normalsize{P}_{dice}(1) \\cdot \\normalsize{P}_{dice}(1)$"
   ]
  },
  {
   "cell_type": "markdown",
   "metadata": {},
   "source": [
    "$$\\normalsize{P}_{snake-eyes} = \\frac{1}{6} \\cdot \\frac{1}{6} = \\frac{1}{36}$$"
   ]
  },
  {
   "cell_type": "markdown",
   "metadata": {},
   "source": [
    "$\\normalsize P_{sum}(7) = \\sum^{7}_{n=0} P_{dice}(n) \\cdot P_{dice}(7-n) $"
   ]
  },
  {
   "cell_type": "markdown",
   "metadata": {},
   "source": [
    "$$\\normalsize P_{sum}(7) = \\frac{6}{36}$$"
   ]
  },
  {
   "cell_type": "markdown",
   "metadata": {},
   "source": [
    "$$ \\boxed{\\normalsize \\frac{P_{snake-eyes}}{P_{sum}} = \\frac{1}{6}} $$"
   ]
  },
  {
   "cell_type": "markdown",
   "metadata": {},
   "source": [
    "### Problem 2:"
   ]
  },
  {
   "cell_type": "markdown",
   "metadata": {},
   "source": [
    "Convolution operator *"
   ]
  },
  {
   "cell_type": "markdown",
   "metadata": {},
   "source": [
    "$$\\normalsize P_{sum}(Sum=z) = \\sum^{7}_{i=0}P_{dice}(n)P_{dice}(z-n)$$"
   ]
  },
  {
   "cell_type": "markdown",
   "metadata": {},
   "source": [
    "$ P_{sum}(1) = 0 $"
   ]
  },
  {
   "cell_type": "markdown",
   "metadata": {},
   "source": [
    "$ P_{sum}(2) =\\left( \\frac{1}{6} \\right)^2 = \\frac{1}{36}$"
   ]
  },
  {
   "cell_type": "markdown",
   "metadata": {},
   "source": [
    "$ P_{sum}(3) =\\left( \\frac{1}{6} \\right)^2 + \\left( \\frac{1}{6} \\right)^2 = \\frac{2}{36}$"
   ]
  },
  {
   "cell_type": "markdown",
   "metadata": {},
   "source": [
    "$ P_{sum}(4) =\\left( \\frac{1}{6} \\right)^2 + \\left( \\frac{1}{6} \\right)^2 + \\left( \\frac{1}{6} \\right)^2 = \\frac{3}{36}$"
   ]
  },
  {
   "cell_type": "markdown",
   "metadata": {},
   "source": [
    "$ P_{sum}(5) =\\left( \\frac{1}{6} \\right)^2 + \\left( \\frac{1}{6} \\right)^2 + \\left( \\frac{1}{6} \\right)^2 + \\left( \\frac{1}{6} \\right)^2 = \\frac{4}{36}$"
   ]
  },
  {
   "cell_type": "markdown",
   "metadata": {},
   "source": [
    "$ P_{sum}(6) =\\left( \\frac{1}{6} \\right)^2 + \\left( \\frac{1}{6} \\right)^2 + \\left( \\frac{1}{6} \\right)^2 + \\left( \\frac{1}{6} \\right)^2 + \\left( \\frac{1}{6} \\right)^2= \\frac{5}{36}$"
   ]
  },
  {
   "cell_type": "markdown",
   "metadata": {},
   "source": [
    "$ P_{sum}(7) =\\left( \\frac{1}{6} \\right)^2 + \\left( \\frac{1}{6} \\right)^2 + \\left( \\frac{1}{6} \\right)^2 + \\left( \\frac{1}{6} \\right)^2 + \\left( \\frac{1}{6} \\right)^2 + \\left( \\frac{1}{6} \\right)^2= \\frac{6}{36}$"
   ]
  },
  {
   "cell_type": "markdown",
   "metadata": {},
   "source": [
    "$ P_{sum}(8) =\\left( \\frac{1}{6} \\right)^2 + \\left( \\frac{1}{6} \\right)^2 + \\left( \\frac{1}{6} \\right)^2 + \\left( \\frac{1}{6} \\right)^2 + \\left( \\frac{1}{6} \\right)^2= \\frac{5}{36}$"
   ]
  },
  {
   "cell_type": "markdown",
   "metadata": {},
   "source": [
    "$ P_{sum}(9) =\\left( \\frac{1}{6} \\right)^2 + \\left( \\frac{1}{6} \\right)^2 + \\left( \\frac{1}{6} \\right)^2 + \\left( \\frac{1}{6} \\right)^2 = \\frac{4}{36}$"
   ]
  },
  {
   "cell_type": "markdown",
   "metadata": {},
   "source": [
    "$ P_{sum}(10) =\\left( \\frac{1}{6} \\right)^2 + \\left( \\frac{1}{6} \\right)^2 + \\left( \\frac{1}{6} \\right)^2 = \\frac{3}{36}$"
   ]
  },
  {
   "cell_type": "markdown",
   "metadata": {},
   "source": [
    "$ P_{sum}(11) =\\left( \\frac{1}{6} \\right)^2 + \\left( \\frac{1}{6} \\right)^2 = \\frac{2}{36}$"
   ]
  },
  {
   "cell_type": "markdown",
   "metadata": {},
   "source": [
    "$ P_{sum}(12) =\\left( \\frac{1}{6} \\right)^2 = \\frac{1}{36}$"
   ]
  },
  {
   "cell_type": "code",
   "execution_count": 70,
   "metadata": {},
   "outputs": [],
   "source": [
    "import numpy as np\n",
    "import pandas as pd\n",
    "import scipy as sp\n",
    "import matplotlib.pyplot as plt"
   ]
  },
  {
   "cell_type": "code",
   "execution_count": 78,
   "metadata": {},
   "outputs": [],
   "source": [
    "#Simulated data\n",
    "n=1000000\n",
    "d1 = np.random.randint(1,7,n)\n",
    "d2 = np.random.randint(1,7,n)\n",
    "y = (d1+d2)\n",
    "bins = np.arange(0,y.max() +1.5) - .5\n",
    "\n",
    "#Perfect data\n",
    "yperf = np.asarray([2,3,3,4,4,4,5,5,5,5,6,6,6,6,6,7,7,7,7,7,7,8,8,8,8,8,9,9,9,9,10,10,10,11,11,12])\n",
    "\n",
    "#Convolution Calculation\n",
    "diceprob = 1/6 \n",
    "def dicelist(diceprob, numberofsides):\n",
    "    array = np.asarray([])\n",
    "    for x in range(0,numberofsides):\n",
    "        array = np.insert(array,x,diceprob)\n",
    "    return array\n",
    "\n",
    "pdf1=np.convolve(dicelist(1/6,6),dicelist(1/6,6),mode ='full')\n"
   ]
  },
  {
   "cell_type": "code",
   "execution_count": 79,
   "metadata": {
    "scrolled": true
   },
   "outputs": [
    {
     "data": {
      "image/png": "[encoded data removed]",
      "text/plain": [
       "<Figure size 1152x288 with 3 Axes>"
      ]
     },
     "metadata": {
      "needs_background": "light"
     },
     "output_type": "display_data"
    }
   ],
   "source": [
    "fig, ax = plt.subplots(1,3,figsize=(16,4))\n",
    "\n",
    "ax[0].set_title('Simulated Data')\n",
    "ax[0].set_ylabel('Counts')\n",
    "ax[0].set_xlabel('Sum Of The Rolls')\n",
    "ax[0].hist(y,bins)\n",
    "ax[0].set_xticks(bins +.5);\n",
    "ax[0].set_xlim(1,13);\n",
    "\n",
    "ax[1].set_title('Perfect Data')\n",
    "ax[1].set_ylabel('Counts')\n",
    "ax[1].set_xlabel('Sum Of The Rolls')\n",
    "ax[1].hist(yperf,bins)\n",
    "ax[1].set_xticks(bins +.5);\n",
    "ax[1].set_xlim(1,13);\n",
    "\n",
    "ax[2].set_title('Perfect Data')\n",
    "ax[2].set_ylabel('Counts')\n",
    "ax[2].set_xlabel('Sum Of The Rolls')\n",
    "ax[2].bar(np.arange(2,len(pdf1)+2),pdf1,align='center',width=1)\n",
    "ax[2].set_xticks(bins +.5);\n",
    "ax[2].set_xlim(1,13);\n"
   ]
  },
  {
   "cell_type": "markdown",
   "metadata": {},
   "source": [
    "List of the probablilties of sums from np.convolutions"
   ]
  },
  {
   "cell_type": "code",
   "execution_count": 80,
   "metadata": {},
   "outputs": [
    {
     "name": "stdout",
     "output_type": "stream",
     "text": [
      "2 0.027777777777777776\n",
      "3 0.05555555555555555\n",
      "4 0.08333333333333333\n",
      "5 0.1111111111111111\n",
      "6 0.1388888888888889\n",
      "7 0.16666666666666669\n",
      "8 0.1388888888888889\n",
      "9 0.1111111111111111\n",
      "10 0.08333333333333333\n",
      "11 0.05555555555555555\n",
      "12 0.027777777777777776\n"
     ]
    }
   ],
   "source": [
    "for c, value in enumerate(pdf1):\n",
    "    print(c+2,value)"
   ]
  },
  {
   "cell_type": "markdown",
   "metadata": {},
   "source": [
    "### Problem 3:"
   ]
  },
  {
   "cell_type": "markdown",
   "metadata": {},
   "source": [
    "Mean and variation of the perfect data"
   ]
  },
  {
   "cell_type": "code",
   "execution_count": 81,
   "metadata": {},
   "outputs": [
    {
     "data": {
      "text/plain": [
       "(7.0, 5.833333333333333)"
      ]
     },
     "execution_count": 81,
     "metadata": {},
     "output_type": "execute_result"
    }
   ],
   "source": [
    "yperf.mean(),np.var(yperf)"
   ]
  },
  {
   "cell_type": "markdown",
   "metadata": {},
   "source": [
    "Writing out how to calculate the mean and variance of the sum with the pdf from the convolution function\n",
    "\n",
    "$$\\bar{x} = \\sum x  P_{sum}(x)$$\n",
    "\n",
    "$$var \\equiv \\sigma^2 = \\sum (x-\\bar{x})^2 P_{sum}(x)$$"
   ]
  },
  {
   "cell_type": "code",
   "execution_count": 82,
   "metadata": {},
   "outputs": [
    {
     "data": {
      "text/plain": [
       "(7.0, 5.833333333333334)"
      ]
     },
     "execution_count": 82,
     "metadata": {},
     "output_type": "execute_result"
    }
   ],
   "source": [
    "mean1 = sum(np.arange(2,13) * (pdf1))\n",
    "var1 = sum(((np.arange(2,13)-mean1)**2)*pdf1)\n",
    "mean1,var1"
   ]
  },
  {
   "cell_type": "markdown",
   "metadata": {},
   "source": [
    "Mean and variation of the Simulated data"
   ]
  },
  {
   "cell_type": "code",
   "execution_count": 83,
   "metadata": {},
   "outputs": [
    {
     "data": {
      "text/plain": [
       "(6.997426, 5.822475374524002)"
      ]
     },
     "execution_count": 83,
     "metadata": {},
     "output_type": "execute_result"
    }
   ],
   "source": [
    "y.mean(),np.var(y)"
   ]
  },
  {
   "cell_type": "markdown",
   "metadata": {},
   "source": [
    "### Problem 4:"
   ]
  },
  {
   "cell_type": "code",
   "execution_count": null,
   "metadata": {},
   "outputs": [],
   "source": []
  }
 ],
 "metadata": {
  "kernelspec": {
   "display_name": "Python 3",
   "language": "python",
   "name": "python3"
  },
  "language_info": {
   "codemirror_mode": {
    "name": "ipython",
    "version": 3
   },
   "file_extension": ".py",
   "mimetype": "text/x-python",
   "name": "python",
   "nbconvert_exporter": "python",
   "pygments_lexer": "ipython3",
   "version": "3.6.8"
  }
 },
 "nbformat": 4,
 "nbformat_minor": 2
}
